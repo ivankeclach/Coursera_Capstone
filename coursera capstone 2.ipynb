{
    "nbformat_minor": 1, 
    "cells": [
        {
            "execution_count": 2, 
            "cell_type": "code", 
            "metadata": {}, 
            "outputs": [
                {
                    "ename": "ImportError", 
                    "evalue": "No module named 'geocoder'", 
                    "traceback": [
                        "\u001b[0;31m---------------------------------------------------------------------------\u001b[0m", 
                        "\u001b[0;31mImportError\u001b[0m                               Traceback (most recent call last)", 
                        "\u001b[0;32m<ipython-input-2-3ac564a04958>\u001b[0m in \u001b[0;36m<module>\u001b[0;34m()\u001b[0m\n\u001b[1;32m      4\u001b[0m \u001b[0;32mimport\u001b[0m \u001b[0mrequests\u001b[0m\u001b[0;34m\u001b[0m\u001b[0m\n\u001b[1;32m      5\u001b[0m \u001b[0;32mimport\u001b[0m \u001b[0mlxml\u001b[0m\u001b[0;34m\u001b[0m\u001b[0m\n\u001b[0;32m----> 6\u001b[0;31m \u001b[0;32mimport\u001b[0m \u001b[0mgeocoder\u001b[0m\u001b[0;34m\u001b[0m\u001b[0m\n\u001b[0m", 
                        "\u001b[0;31mImportError\u001b[0m: No module named 'geocoder'"
                    ], 
                    "output_type": "error"
                }
            ], 
            "source": "import pandas as pd\nimport numpy as np\nfrom bs4 import BeautifulSoup\nimport requests\nimport lxml\nimport geocoder"
        }, 
        {
            "execution_count": 3, 
            "cell_type": "code", 
            "metadata": {}, 
            "outputs": [], 
            "source": "#getting the sourse html of the webpage\nsource = requests.get('https://en.wikipedia.org/wiki/List_of_postal_codes_of_Canada:_M').text\n\n#creating the BS object to work with\nsoup = BeautifulSoup(source, 'lxml')"
        }, 
        {
            "execution_count": 4, 
            "cell_type": "code", 
            "metadata": {}, 
            "outputs": [], 
            "source": "#fetching the table component from the html wikipedia page\ntable = soup.find(\"table\") \n\n#each cell represents a row in the future DataFrame\ncells = table.find_all(\"tr\")\n\n#we will make DataFrame from these arrays\nPostalCode   = list()\nBorough      = list()\nNeighborhood = list()\n\n#going through the cells and filling out the arrays\nfor i in range(1,len(cells)):\n    current_elems = cells[i].find_all(\"td\")\n    \n    nbhood = str(current_elems[2].text) #some issues with the last column \n    \n    PostalCode.append(current_elems[0].text)\n    Borough.append(current_elems[1].text)\n    Neighborhood.append(nbhood[0:len(nbhood)-1])"
        }, 
        {
            "execution_count": 5, 
            "cell_type": "code", 
            "metadata": {}, 
            "outputs": [
                {
                    "execution_count": 5, 
                    "metadata": {}, 
                    "data": {
                        "text/html": "<div>\n<style scoped>\n    .dataframe tbody tr th:only-of-type {\n        vertical-align: middle;\n    }\n\n    .dataframe tbody tr th {\n        vertical-align: top;\n    }\n\n    .dataframe thead th {\n        text-align: right;\n    }\n</style>\n<table border=\"1\" class=\"dataframe\">\n  <thead>\n    <tr style=\"text-align: right;\">\n      <th></th>\n      <th>Borough</th>\n      <th>Neighborhood</th>\n      <th>PostalCode</th>\n    </tr>\n  </thead>\n  <tbody>\n    <tr>\n      <th>0</th>\n      <td>Not assigned</td>\n      <td>Not assigned</td>\n      <td>M1A</td>\n    </tr>\n    <tr>\n      <th>1</th>\n      <td>Not assigned</td>\n      <td>Not assigned</td>\n      <td>M2A</td>\n    </tr>\n    <tr>\n      <th>2</th>\n      <td>North York</td>\n      <td>Parkwoods</td>\n      <td>M3A</td>\n    </tr>\n    <tr>\n      <th>3</th>\n      <td>North York</td>\n      <td>Victoria Village</td>\n      <td>M4A</td>\n    </tr>\n    <tr>\n      <th>4</th>\n      <td>Downtown Toronto</td>\n      <td>Harbourfront</td>\n      <td>M5A</td>\n    </tr>\n  </tbody>\n</table>\n</div>", 
                        "text/plain": "            Borough      Neighborhood PostalCode\n0      Not assigned      Not assigned        M1A\n1      Not assigned      Not assigned        M2A\n2        North York         Parkwoods        M3A\n3        North York  Victoria Village        M4A\n4  Downtown Toronto      Harbourfront        M5A"
                    }, 
                    "output_type": "execute_result"
                }
            ], 
            "source": "data_ = {\"PostalCode\" : PostalCode, \"Borough\": Borough, \"Neighborhood\": Neighborhood}\ndf =pd.DataFrame(data=data_)\ndf.head()"
        }, 
        {
            "execution_count": 6, 
            "cell_type": "code", 
            "metadata": {}, 
            "outputs": [
                {
                    "execution_count": 6, 
                    "metadata": {}, 
                    "data": {
                        "text/html": "<div>\n<style scoped>\n    .dataframe tbody tr th:only-of-type {\n        vertical-align: middle;\n    }\n\n    .dataframe tbody tr th {\n        vertical-align: top;\n    }\n\n    .dataframe thead th {\n        text-align: right;\n    }\n</style>\n<table border=\"1\" class=\"dataframe\">\n  <thead>\n    <tr style=\"text-align: right;\">\n      <th></th>\n      <th>PostalCode</th>\n      <th>Borough</th>\n      <th>Neighborhood</th>\n    </tr>\n  </thead>\n  <tbody>\n    <tr>\n      <th>0</th>\n      <td>M3A</td>\n      <td>North York</td>\n      <td>Parkwoods</td>\n    </tr>\n    <tr>\n      <th>1</th>\n      <td>M4A</td>\n      <td>North York</td>\n      <td>Victoria Village</td>\n    </tr>\n    <tr>\n      <th>2</th>\n      <td>M5A</td>\n      <td>Downtown Toronto</td>\n      <td>Harbourfront</td>\n    </tr>\n    <tr>\n      <th>3</th>\n      <td>M5A</td>\n      <td>Downtown Toronto</td>\n      <td>Regent Park</td>\n    </tr>\n    <tr>\n      <th>4</th>\n      <td>M6A</td>\n      <td>North York</td>\n      <td>Lawrence Heights</td>\n    </tr>\n  </tbody>\n</table>\n</div>", 
                        "text/plain": "  PostalCode           Borough      Neighborhood\n0        M3A        North York         Parkwoods\n1        M4A        North York  Victoria Village\n2        M5A  Downtown Toronto      Harbourfront\n3        M5A  Downtown Toronto       Regent Park\n4        M6A        North York  Lawrence Heights"
                    }, 
                    "output_type": "execute_result"
                }
            ], 
            "source": "#Processing the DataFrame according to given conditions\n\n#1: all entries with Borough = Not Assigned must be dropped\n\ndf = df.loc[df['Borough'] != 'Not assigned'].reset_index()\n\n\n#2: If neighborhood is unavailable, we copy borough into it\n\ndf.loc[df['Neighborhood'] == \"Not assigned\", 'Neighborhood'] = df['Borough']\n\ndf = df[['PostalCode','Borough','Neighborhood']]\n\ndf.head()"
        }, 
        {
            "execution_count": 7, 
            "cell_type": "code", 
            "metadata": {}, 
            "outputs": [], 
            "source": "#3: grouping neighborhoods by postal code\n\nfor elem in df['PostalCode'].tolist():\n    #print('elem: ' + str(elem))\n    borough = df.loc[df['PostalCode'] == elem,'Borough'].tolist()[0]\n    neighborhoods = df.loc[df['PostalCode']==elem,'Neighborhood'].tolist()\n    neighbString  = \"\"\n    \n    for i in neighborhoods:\n        neighbString += (i+\", \")\n        \n    df = df.loc[df['PostalCode'] != elem]\n    df = df.append({'PostalCode': elem, 'Borough': borough, 'Neighborhood': neighbString[0:-2]},ignore_index=True)\n    df.reset_index()"
        }, 
        {
            "execution_count": 8, 
            "cell_type": "code", 
            "metadata": {}, 
            "outputs": [
                {
                    "execution_count": 8, 
                    "metadata": {}, 
                    "data": {
                        "text/plain": "(103, 3)"
                    }, 
                    "output_type": "execute_result"
                }
            ], 
            "source": "df.shape"
        }, 
        {
            "execution_count": 9, 
            "cell_type": "code", 
            "metadata": {}, 
            "outputs": [
                {
                    "execution_count": 9, 
                    "metadata": {}, 
                    "data": {
                        "text/html": "<div>\n<style scoped>\n    .dataframe tbody tr th:only-of-type {\n        vertical-align: middle;\n    }\n\n    .dataframe tbody tr th {\n        vertical-align: top;\n    }\n\n    .dataframe thead th {\n        text-align: right;\n    }\n</style>\n<table border=\"1\" class=\"dataframe\">\n  <thead>\n    <tr style=\"text-align: right;\">\n      <th></th>\n      <th>Postal Code</th>\n      <th>Latitude</th>\n      <th>Longitude</th>\n    </tr>\n  </thead>\n  <tbody>\n    <tr>\n      <th>0</th>\n      <td>M1B</td>\n      <td>43.806686</td>\n      <td>-79.194353</td>\n    </tr>\n    <tr>\n      <th>1</th>\n      <td>M1C</td>\n      <td>43.784535</td>\n      <td>-79.160497</td>\n    </tr>\n    <tr>\n      <th>2</th>\n      <td>M1E</td>\n      <td>43.763573</td>\n      <td>-79.188711</td>\n    </tr>\n    <tr>\n      <th>3</th>\n      <td>M1G</td>\n      <td>43.770992</td>\n      <td>-79.216917</td>\n    </tr>\n    <tr>\n      <th>4</th>\n      <td>M1H</td>\n      <td>43.773136</td>\n      <td>-79.239476</td>\n    </tr>\n  </tbody>\n</table>\n</div>", 
                        "text/plain": "  Postal Code   Latitude  Longitude\n0         M1B  43.806686 -79.194353\n1         M1C  43.784535 -79.160497\n2         M1E  43.763573 -79.188711\n3         M1G  43.770992 -79.216917\n4         M1H  43.773136 -79.239476"
                    }, 
                    "output_type": "execute_result"
                }
            ], 
            "source": "llframe = pd.read_csv(\"http://cocl.us/Geospatial_data\")\nllframe.head()"
        }, 
        {
            "execution_count": 10, 
            "cell_type": "code", 
            "metadata": {}, 
            "outputs": [
                {
                    "execution_count": 10, 
                    "metadata": {}, 
                    "data": {
                        "text/html": "<div>\n<style scoped>\n    .dataframe tbody tr th:only-of-type {\n        vertical-align: middle;\n    }\n\n    .dataframe tbody tr th {\n        vertical-align: top;\n    }\n\n    .dataframe thead th {\n        text-align: right;\n    }\n</style>\n<table border=\"1\" class=\"dataframe\">\n  <thead>\n    <tr style=\"text-align: right;\">\n      <th></th>\n      <th>PostalCode</th>\n      <th>Borough</th>\n      <th>Neighborhood</th>\n      <th>Latitude</th>\n      <th>Longitude</th>\n    </tr>\n  </thead>\n  <tbody>\n    <tr>\n      <th>0</th>\n      <td>M3A</td>\n      <td>North York</td>\n      <td>Parkwoods</td>\n      <td>43.753259</td>\n      <td>-79.329656</td>\n    </tr>\n    <tr>\n      <th>1</th>\n      <td>M4A</td>\n      <td>North York</td>\n      <td>Victoria Village</td>\n      <td>43.725882</td>\n      <td>-79.315572</td>\n    </tr>\n    <tr>\n      <th>2</th>\n      <td>M5A</td>\n      <td>Downtown Toronto</td>\n      <td>Harbourfront, Regent Park</td>\n      <td>43.654260</td>\n      <td>-79.360636</td>\n    </tr>\n    <tr>\n      <th>3</th>\n      <td>M6A</td>\n      <td>North York</td>\n      <td>Lawrence Heights, Lawrence Manor</td>\n      <td>43.718518</td>\n      <td>-79.464763</td>\n    </tr>\n    <tr>\n      <th>4</th>\n      <td>M7A</td>\n      <td>Queen's Park</td>\n      <td>Queen's Park</td>\n      <td>43.662301</td>\n      <td>-79.389494</td>\n    </tr>\n  </tbody>\n</table>\n</div>", 
                        "text/plain": "  PostalCode           Borough                      Neighborhood   Latitude  \\\n0        M3A        North York                         Parkwoods  43.753259   \n1        M4A        North York                  Victoria Village  43.725882   \n2        M5A  Downtown Toronto         Harbourfront, Regent Park  43.654260   \n3        M6A        North York  Lawrence Heights, Lawrence Manor  43.718518   \n4        M7A      Queen's Park                      Queen's Park  43.662301   \n\n   Longitude  \n0 -79.329656  \n1 -79.315572  \n2 -79.360636  \n3 -79.464763  \n4 -79.389494  "
                    }, 
                    "output_type": "execute_result"
                }
            ], 
            "source": "postalcodes = df['PostalCode'].tolist()\nlatitudes   = list()\nlongitudes  = list()\n\nfor code in postalcodes:\n        lat = llframe.loc[llframe['Postal Code'] == code, 'Latitude'].tolist()[0]\n        lng = llframe.loc[llframe['Postal Code'] == code, 'Longitude'].tolist()[0]\n        latitudes.append(lat)\n        longitudes.append(lng)\ndf['Latitude'] = pd.Series(latitudes, index=df.index)\ndf['Longitude']= pd.Series(longitudes,index=df.index)\ndf.head()"
        }, 
        {
            "execution_count": 11, 
            "cell_type": "code", 
            "metadata": {}, 
            "outputs": [
                {
                    "execution_count": 11, 
                    "metadata": {}, 
                    "data": {
                        "text/html": "<div>\n<style scoped>\n    .dataframe tbody tr th:only-of-type {\n        vertical-align: middle;\n    }\n\n    .dataframe tbody tr th {\n        vertical-align: top;\n    }\n\n    .dataframe thead th {\n        text-align: right;\n    }\n</style>\n<table border=\"1\" class=\"dataframe\">\n  <thead>\n    <tr style=\"text-align: right;\">\n      <th></th>\n      <th>index</th>\n      <th>PostalCode</th>\n      <th>Borough</th>\n      <th>Neighborhood</th>\n      <th>Latitude</th>\n      <th>Longitude</th>\n    </tr>\n  </thead>\n  <tbody>\n    <tr>\n      <th>0</th>\n      <td>2</td>\n      <td>M5A</td>\n      <td>Downtown Toronto</td>\n      <td>Harbourfront, Regent Park</td>\n      <td>43.654260</td>\n      <td>-79.360636</td>\n    </tr>\n    <tr>\n      <th>1</th>\n      <td>9</td>\n      <td>M5B</td>\n      <td>Downtown Toronto</td>\n      <td>Ryerson, Garden District</td>\n      <td>43.657162</td>\n      <td>-79.378937</td>\n    </tr>\n    <tr>\n      <th>2</th>\n      <td>15</td>\n      <td>M5C</td>\n      <td>Downtown Toronto</td>\n      <td>St. James Town</td>\n      <td>43.651494</td>\n      <td>-79.375418</td>\n    </tr>\n    <tr>\n      <th>3</th>\n      <td>19</td>\n      <td>M4E</td>\n      <td>East Toronto</td>\n      <td>The Beaches</td>\n      <td>43.676357</td>\n      <td>-79.293031</td>\n    </tr>\n    <tr>\n      <th>4</th>\n      <td>20</td>\n      <td>M5E</td>\n      <td>Downtown Toronto</td>\n      <td>Berczy Park</td>\n      <td>43.644771</td>\n      <td>-79.373306</td>\n    </tr>\n  </tbody>\n</table>\n</div>", 
                        "text/plain": "   index PostalCode           Borough               Neighborhood   Latitude  \\\n0      2        M5A  Downtown Toronto  Harbourfront, Regent Park  43.654260   \n1      9        M5B  Downtown Toronto   Ryerson, Garden District  43.657162   \n2     15        M5C  Downtown Toronto             St. James Town  43.651494   \n3     19        M4E      East Toronto                The Beaches  43.676357   \n4     20        M5E  Downtown Toronto                Berczy Park  43.644771   \n\n   Longitude  \n0 -79.360636  \n1 -79.378937  \n2 -79.375418  \n3 -79.293031  \n4 -79.373306  "
                    }, 
                    "output_type": "execute_result"
                }
            ], 
            "source": "\ndf = df.loc[df['Borough'].str.contains(\"Toronto\")].reset_index()\ndf.head()"
        }, 
        {
            "execution_count": 12, 
            "cell_type": "code", 
            "metadata": {}, 
            "outputs": [
                {
                    "execution_count": 12, 
                    "metadata": {}, 
                    "data": {
                        "text/plain": "(38, 6)"
                    }, 
                    "output_type": "execute_result"
                }
            ], 
            "source": "df.shape"
        }, 
        {
            "execution_count": 13, 
            "cell_type": "code", 
            "metadata": {}, 
            "outputs": [
                {
                    "ename": "ImportError", 
                    "evalue": "No module named 'folium'", 
                    "traceback": [
                        "\u001b[0;31m---------------------------------------------------------------------------\u001b[0m", 
                        "\u001b[0;31mImportError\u001b[0m                               Traceback (most recent call last)", 
                        "\u001b[0;32m<ipython-input-13-eaf608517a5e>\u001b[0m in \u001b[0;36m<module>\u001b[0;34m()\u001b[0m\n\u001b[0;32m----> 1\u001b[0;31m \u001b[0;32mimport\u001b[0m \u001b[0mfolium\u001b[0m\u001b[0;34m\u001b[0m\u001b[0m\n\u001b[0m\u001b[1;32m      2\u001b[0m \u001b[0;32mfrom\u001b[0m \u001b[0mgeopy\u001b[0m\u001b[0;34m.\u001b[0m\u001b[0mgeocoders\u001b[0m \u001b[0;32mimport\u001b[0m \u001b[0mNominatim\u001b[0m\u001b[0;34m\u001b[0m\u001b[0m\n", 
                        "\u001b[0;31mImportError\u001b[0m: No module named 'folium'"
                    ], 
                    "output_type": "error"
                }
            ], 
            "source": "import folium\nfrom geopy.geocoders import Nominatim"
        }, 
        {
            "execution_count": 14, 
            "cell_type": "code", 
            "metadata": {}, 
            "outputs": [
                {
                    "ename": "NameError", 
                    "evalue": "name 'Nominatim' is not defined", 
                    "traceback": [
                        "\u001b[0;31m---------------------------------------------------------------------------\u001b[0m", 
                        "\u001b[0;31mNameError\u001b[0m                                 Traceback (most recent call last)", 
                        "\u001b[0;32m<ipython-input-14-4be7adc7e92d>\u001b[0m in \u001b[0;36m<module>\u001b[0;34m()\u001b[0m\n\u001b[1;32m      1\u001b[0m \u001b[0maddress\u001b[0m \u001b[0;34m=\u001b[0m \u001b[0;34m'Toronto, Canada'\u001b[0m\u001b[0;34m\u001b[0m\u001b[0m\n\u001b[1;32m      2\u001b[0m \u001b[0;34m\u001b[0m\u001b[0m\n\u001b[0;32m----> 3\u001b[0;31m \u001b[0mgeolocator\u001b[0m \u001b[0;34m=\u001b[0m \u001b[0mNominatim\u001b[0m\u001b[0;34m(\u001b[0m\u001b[0muser_agent\u001b[0m\u001b[0;34m=\u001b[0m\u001b[0;34m'toronto_explorer'\u001b[0m\u001b[0;34m)\u001b[0m\u001b[0;34m\u001b[0m\u001b[0m\n\u001b[0m\u001b[1;32m      4\u001b[0m \u001b[0mlocation\u001b[0m \u001b[0;34m=\u001b[0m \u001b[0mgeolocator\u001b[0m\u001b[0;34m.\u001b[0m\u001b[0mgeocode\u001b[0m\u001b[0;34m(\u001b[0m\u001b[0maddress\u001b[0m\u001b[0;34m)\u001b[0m\u001b[0;34m\u001b[0m\u001b[0m\n\u001b[1;32m      5\u001b[0m \u001b[0mlatitude\u001b[0m \u001b[0;34m=\u001b[0m \u001b[0mlocation\u001b[0m\u001b[0;34m.\u001b[0m\u001b[0mlatitude\u001b[0m\u001b[0;34m\u001b[0m\u001b[0m\n", 
                        "\u001b[0;31mNameError\u001b[0m: name 'Nominatim' is not defined"
                    ], 
                    "output_type": "error"
                }
            ], 
            "source": "address = 'Toronto, Canada'\n\ngeolocator = Nominatim(user_agent='toronto_explorer')\nlocation = geolocator.geocode(address)\nlatitude = location.latitude\nlongitude = location.longitude\nprint('The geograpical coordinate of Toronto are {}, {}.'.format(latitude, longitude))"
        }, 
        {
            "execution_count": 15, 
            "cell_type": "code", 
            "metadata": {}, 
            "outputs": [
                {
                    "ename": "NameError", 
                    "evalue": "name 'folium' is not defined", 
                    "traceback": [
                        "\u001b[0;31m---------------------------------------------------------------------------\u001b[0m", 
                        "\u001b[0;31mNameError\u001b[0m                                 Traceback (most recent call last)", 
                        "\u001b[0;32m<ipython-input-15-a30c98d51d25>\u001b[0m in \u001b[0;36m<module>\u001b[0;34m()\u001b[0m\n\u001b[0;32m----> 1\u001b[0;31m \u001b[0mmap_toronto\u001b[0m \u001b[0;34m=\u001b[0m \u001b[0mfolium\u001b[0m\u001b[0;34m.\u001b[0m\u001b[0mMap\u001b[0m\u001b[0;34m(\u001b[0m\u001b[0mlocation\u001b[0m\u001b[0;34m=\u001b[0m\u001b[0;34m[\u001b[0m\u001b[0mlatitude\u001b[0m\u001b[0;34m,\u001b[0m\u001b[0mlongitude\u001b[0m\u001b[0;34m]\u001b[0m\u001b[0;34m,\u001b[0m\u001b[0mzoom_start\u001b[0m\u001b[0;34m=\u001b[0m\u001b[0;36m11\u001b[0m\u001b[0;34m)\u001b[0m\u001b[0;34m\u001b[0m\u001b[0m\n\u001b[0m\u001b[1;32m      2\u001b[0m \u001b[0;34m\u001b[0m\u001b[0m\n\u001b[1;32m      3\u001b[0m \u001b[0;32mfor\u001b[0m \u001b[0mlat\u001b[0m\u001b[0;34m,\u001b[0m \u001b[0mlng\u001b[0m\u001b[0;34m,\u001b[0m \u001b[0mlabel\u001b[0m \u001b[0;32min\u001b[0m \u001b[0mzip\u001b[0m\u001b[0;34m(\u001b[0m\u001b[0mdf\u001b[0m\u001b[0;34m[\u001b[0m\u001b[0;34m'Latitude'\u001b[0m\u001b[0;34m]\u001b[0m\u001b[0;34m,\u001b[0m \u001b[0mdf\u001b[0m\u001b[0;34m[\u001b[0m\u001b[0;34m'Longitude'\u001b[0m\u001b[0;34m]\u001b[0m\u001b[0;34m,\u001b[0m \u001b[0mdf\u001b[0m\u001b[0;34m[\u001b[0m\u001b[0;34m'Neighborhood'\u001b[0m\u001b[0;34m]\u001b[0m\u001b[0;34m)\u001b[0m\u001b[0;34m:\u001b[0m\u001b[0;34m\u001b[0m\u001b[0m\n\u001b[1;32m      4\u001b[0m     \u001b[0mlabel\u001b[0m \u001b[0;34m=\u001b[0m \u001b[0mfolium\u001b[0m\u001b[0;34m.\u001b[0m\u001b[0mPopup\u001b[0m\u001b[0;34m(\u001b[0m\u001b[0mlabel\u001b[0m\u001b[0;34m,\u001b[0m \u001b[0mparse_html\u001b[0m\u001b[0;34m=\u001b[0m\u001b[0;32mTrue\u001b[0m\u001b[0;34m)\u001b[0m\u001b[0;34m\u001b[0m\u001b[0m\n\u001b[1;32m      5\u001b[0m     folium.CircleMarker(\n", 
                        "\u001b[0;31mNameError\u001b[0m: name 'folium' is not defined"
                    ], 
                    "output_type": "error"
                }
            ], 
            "source": "map_toronto = folium.Map(location=[latitude,longitude],zoom_start=11)\n\nfor lat, lng, label in zip(df['Latitude'], df['Longitude'], df['Neighborhood']):\n    label = folium.Popup(label, parse_html=True)\n    folium.CircleMarker(\n        [lat, lng],\n        radius=5,\n        popup=label,\n        color='blue',\n        fill=True,\n        fill_color='#3186cc',\n        fill_opacity=0.7,\n        ).add_to(map_toronto)\n    \nmap_toronto"
        }, 
        {
            "execution_count": null, 
            "cell_type": "code", 
            "metadata": {}, 
            "outputs": [], 
            "source": ""
        }
    ], 
    "metadata": {
        "kernelspec": {
            "display_name": "Python 3.5", 
            "name": "python3", 
            "language": "python"
        }, 
        "language_info": {
            "mimetype": "text/x-python", 
            "nbconvert_exporter": "python", 
            "version": "3.5.5", 
            "name": "python", 
            "file_extension": ".py", 
            "pygments_lexer": "ipython3", 
            "codemirror_mode": {
                "version": 3, 
                "name": "ipython"
            }
        }
    }, 
    "nbformat": 4
}