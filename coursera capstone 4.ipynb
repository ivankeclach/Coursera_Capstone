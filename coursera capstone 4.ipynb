{
    "nbformat_minor": 1, 
    "cells": [
        {
            "execution_count": 1, 
            "cell_type": "code", 
            "metadata": {}, 
            "outputs": [
                {
                    "ename": "ImportError", 
                    "evalue": "No module named 'folium'", 
                    "traceback": [
                        "\u001b[0;31m---------------------------------------------------------------------------\u001b[0m", 
                        "\u001b[0;31mImportError\u001b[0m                               Traceback (most recent call last)", 
                        "\u001b[0;32m<ipython-input-1-bf6d42fe9f72>\u001b[0m in \u001b[0;36m<module>\u001b[0;34m()\u001b[0m\n\u001b[1;32m     21\u001b[0m \u001b[0;34m\u001b[0m\u001b[0m\n\u001b[1;32m     22\u001b[0m \u001b[0;31m#!conda install -c conda-forge folium=0.5.0 --yes # uncomment this line if you haven't completed the Foursquare API lab\u001b[0m\u001b[0;34m\u001b[0m\u001b[0;34m\u001b[0m\u001b[0m\n\u001b[0;32m---> 23\u001b[0;31m \u001b[0;32mimport\u001b[0m \u001b[0mfolium\u001b[0m \u001b[0;31m# map rendering library\u001b[0m\u001b[0;34m\u001b[0m\u001b[0m\n\u001b[0m\u001b[1;32m     24\u001b[0m \u001b[0;34m\u001b[0m\u001b[0m\n\u001b[1;32m     25\u001b[0m \u001b[0mprint\u001b[0m\u001b[0;34m(\u001b[0m\u001b[0;34m'Libraries imported.'\u001b[0m\u001b[0;34m)\u001b[0m\u001b[0;34m\u001b[0m\u001b[0m\n", 
                        "\u001b[0;31mImportError\u001b[0m: No module named 'folium'"
                    ], 
                    "output_type": "error"
                }
            ], 
            "source": "import numpy as np # library to handle data in a vectorized manner\n\nimport pandas as pd # library for data analsysis\npd.set_option('display.max_columns', None)\npd.set_option('display.max_rows', None)\n\nimport json # library to handle JSON files\n\n#!conda install -c conda-forge geopy --yes # uncomment this line if you haven't completed the Foursquare API lab\nfrom geopy.geocoders import Nominatim # convert an address into latitude and longitude values\n\nimport requests # library to handle requests\nfrom pandas.io.json import json_normalize # tranform JSON file into a pandas dataframe\n\n# Matplotlib and associated plotting modules\nimport matplotlib.cm as cm\nimport matplotlib.colors as colors\n\n# import k-means from clustering stage\nfrom sklearn.cluster import KMeans\n\n#!conda install -c conda-forge folium=0.5.0 --yes # uncomment this line if you haven't completed the Foursquare API lab\nimport folium # map rendering library\n\nprint('Libraries imported.')"
        }, 
        {
            "execution_count": 2, 
            "cell_type": "code", 
            "metadata": {}, 
            "outputs": [
                {
                    "output_type": "stream", 
                    "name": "stdout", 
                    "text": "Data downloaded!\n"
                }
            ], 
            "source": "!wget -q -O 'newyork_data.json' https://cocl.us/new_york_dataset\nprint('Data downloaded!')"
        }, 
        {
            "execution_count": 3, 
            "cell_type": "code", 
            "metadata": {}, 
            "outputs": [], 
            "source": "\nwith open('newyork_data.json') as json_data:\n    newyork_data = json.load(json_data)['features']"
        }, 
        {
            "execution_count": 4, 
            "cell_type": "code", 
            "metadata": {}, 
            "outputs": [], 
            "source": "\n# define the dataframe columns\ncolumn_names = ['Borough', 'Neighborhood', 'Latitude', 'Longitude'] \n\n# instantiate the dataframe\nneighborhoods = pd.DataFrame(columns=column_names)"
        }, 
        {
            "execution_count": 5, 
            "cell_type": "code", 
            "metadata": {}, 
            "outputs": [
                {
                    "output_type": "stream", 
                    "name": "stdout", 
                    "text": "Bronx\nWakefield\n-73.84720052054902\nBronx\nCo-op City\n-73.82993910812398\nBronx\nEastchester\n-73.82780644716412\nBronx\nFieldston\n-73.90564259591682\nBronx\nRiverdale\n-73.9125854610857\nBronx\nKingsbridge\n-73.90281798724604\nManhattan\nMarble Hill\n-73.91065965862981\nBronx\nWoodlawn\n-73.86731496814176\nBronx\nNorwood\n-73.8793907395681\nBronx\nWilliamsbridge\n-73.85744642974207\nBronx\nBaychester\n-73.83579759808117\nBronx\nPelham Parkway\n-73.85475564017999\nBronx\nCity Island\n-73.78648845267413\nBronx\nBedford Park\n-73.8855121841913\nBronx\nUniversity Heights\n-73.9104159619131\nBronx\nMorris Heights\n-73.91967159119565\nBronx\nFordham\n-73.89642655981623\nBronx\nEast Tremont\n-73.88735617532338\nBronx\nWest Farms\n-73.87774474910545\nBronx\nHigh  Bridge\n-73.9261020935813\nBronx\nMelrose\n-73.90942160757436\nBronx\nMott Haven\n-73.91609987487575\nBronx\nPort Morris\n-73.91322139386135\nBronx\nLongwood\n-73.8957882009446\nBronx\nHunts Point\n-73.88331505955291\nBronx\nMorrisania\n-73.90150648943059\nBronx\nSoundview\n-73.86574609554924\nBronx\nClason Point\n-73.85414416189266\nBronx\nThrogs Neck\n-73.81635002158441\nBronx\nCountry Club\n-73.8240992675385\nBronx\nParkchester\n-73.85600310535783\nBronx\nWestchester Square\n-73.84219407604444\nBronx\nVan Nest\n-73.8662991807561\nBronx\nMorris Park\n-73.85040178030421\nBronx\nBelmont\n-73.88845196134804\nBronx\nSpuyten Duyvil\n-73.91719048210393\nBronx\nNorth Riverdale\n-73.90453054908927\nBronx\nPelham Bay\n-73.8320737824047\nBronx\nSchuylerville\n-73.82620275994073\nBronx\nEdgewater Park\n-73.81388514428619\nBronx\nCastle Hill\n-73.84802729582735\nBronx\nOlinville\n-73.86332361652777\nBronx\nPelham Gardens\n-73.84161194831223\nBronx\nConcourse\n-73.91558941773444\nBronx\nUnionport\n-73.85053524451935\nBronx\nEdenwald\n-73.84808271877168\nBrooklyn\nBay Ridge\n-74.03062069353813\nBrooklyn\nBensonhurst\n-73.99517998380729\nBrooklyn\nSunset Park\n-74.01031618527784\nBrooklyn\nGreenpoint\n-73.95424093127393\nBrooklyn\nGravesend\n-73.97347087708445\nBrooklyn\nBrighton Beach\n-73.96509448785336\nBrooklyn\nSheepshead Bay\n-73.94318640482979\nBrooklyn\nManhattan Terrace\n-73.95743840559939\nBrooklyn\nFlatbush\n-73.95840106533903\nBrooklyn\nCrown Heights\n-73.94329119073582\nBrooklyn\nEast Flatbush\n-73.93610256185836\nBrooklyn\nKensington\n-73.98042110559474\nBrooklyn\nWindsor Terrace\n-73.98007340430172\nBrooklyn\nProspect Heights\n-73.9648592426269\nBrooklyn\nBrownsville\n-73.91023536176607\nBrooklyn\nWilliamsburg\n-73.95811529220927\nBrooklyn\nBushwick\n-73.92525797487045\nBrooklyn\nBedford Stuyvesant\n-73.94178488690297\nBrooklyn\nBrooklyn Heights\n-73.99378225496424\nBrooklyn\nCobble Hill\n-73.99856139218463\nBrooklyn\nCarroll Gardens\n-73.99465372828006\nBrooklyn\nRed Hook\n-74.0127589747356\nBrooklyn\nGowanus\n-73.99444087145339\nBrooklyn\nFort Greene\n-73.97290574369092\nBrooklyn\nPark Slope\n-73.97705030183924\nBrooklyn\nCypress Hills\n-73.87661596457296\nBrooklyn\nEast New York\n-73.88069863917366\nBrooklyn\nStarrett City\n-73.87936970045875\nBrooklyn\nCanarsie\n-73.90209269778966\nBrooklyn\nFlatlands\n-73.92911302644674\nBrooklyn\nMill Island\n-73.90818571777423\nBrooklyn\nManhattan Beach\n-73.94353722891886\nBrooklyn\nConey Island\n-73.98868295821637\nBrooklyn\nBath Beach\n-73.99875221443519\nBrooklyn\nBorough Park\n-73.99049823044811\nBrooklyn\nDyker Heights\n-74.01931375636022\nBrooklyn\nGerritsen Beach\n-73.93010170691196\nBrooklyn\nMarine Park\n-73.93134404108497\nBrooklyn\nClinton Hill\n-73.96784306216367\nBrooklyn\nSea Gate\n-74.0078731120024\nBrooklyn\nDowntown\n-73.98346337431099\nBrooklyn\nBoerum Hill\n-73.98374824115798\nBrooklyn\nProspect Lefferts Gardens\n-73.95489867077713\nBrooklyn\nOcean Hill\n-73.91306831787395\nBrooklyn\nCity Line\n-73.86797598081334\nBrooklyn\nBergen Beach\n-73.89855633630317\nBrooklyn\nMidwood\n-73.95759523489838\nBrooklyn\nProspect Park South\n-73.96261316716048\nBrooklyn\nGeorgetown\n-73.91607483951324\nBrooklyn\nEast Williamsburg\n-73.93885815269195\nBrooklyn\nNorth Side\n-73.95880857587582\nBrooklyn\nSouth Side\n-73.95800095153331\nBrooklyn\nOcean Parkway\n-73.96836678035541\nBrooklyn\nFort Hamilton\n-74.03197914537984\nManhattan\nChinatown\n-73.99427936255978\nManhattan\nWashington Heights\n-73.93690027985234\nManhattan\nInwood\n-73.92121042203897\nManhattan\nHamilton Heights\n-73.94968791883366\nManhattan\nManhattanville\n-73.9573853935188\nManhattan\nCentral Harlem\n-73.94321112603905\nManhattan\nEast Harlem\n-73.94418223148524\nManhattan\nUpper East Side\n-73.96050763135\nManhattan\nYorkville\n-73.94711784471826\nManhattan\nLenox Hill\n-73.9588596881376\nManhattan\nRoosevelt Island\n-73.94916769227953\nManhattan\nUpper West Side\n-73.97705923630603\nManhattan\nLincoln Square\n-73.98533777001262\nManhattan\nClinton\n-73.99611936309479\nManhattan\nMidtown\n-73.98166882730304\nManhattan\nMurray Hill\n-73.97833207924127\nManhattan\nChelsea\n-74.00311633472813\nManhattan\nGreenwich Village\n-73.99991402945902\nManhattan\nEast Village\n-73.98222616506416\nManhattan\nLower East Side\n-73.98089031999291\nManhattan\nTribeca\n-74.01068328559087\nManhattan\nLittle Italy\n-73.99730467208073\nManhattan\nSoho\n-74.00065666959759\nManhattan\nWest Village\n-74.00617998126812\nManhattan\nManhattan Valley\n-73.96428617740655\nManhattan\nMorningside Heights\n-73.96389627905332\nManhattan\nGramercy\n-73.98137594833541\nManhattan\nBattery Park City\n-74.01686930508617\nManhattan\nFinancial District\n-74.0106654452127\nQueens\nAstoria\n-73.91565374304234\nQueens\nWoodside\n-73.90184166838284\nQueens\nJackson Heights\n-73.88282109164365\nQueens\nElmhurst\n-73.88165622288388\nQueens\nHoward Beach\n-73.8381376460028\nQueens\nCorona\n-73.85682497345258\nQueens\nForest Hills\n-73.84447500788983\nQueens\nKew Gardens\n-73.82981905825703\nQueens\nRichmond Hill\n-73.83183321446887\nQueens\nFlushing\n-73.83177300329582\nQueens\nLong Island City\n-73.93920223915505\nQueens\nSunnyside\n-73.92691617561577\nQueens\nEast Elmhurst\n-73.86704147658772\nQueens\nMaspeth\n-73.89621713626859\nQueens\nRidgewood\n-73.90143517559589\nQueens\nGlendale\n-73.87074167435605\nQueens\nRego Park\n-73.8578268690537\nQueens\nWoodhaven\n-73.8581104655432\nQueens\nOzone Park\n-73.84320266173447\nQueens\nSouth Ozone Park\n-73.80986478649041\nQueens\nCollege Point\n-73.84304528896125\nQueens\nWhitestone\n-73.81420216610863\nQueens\nBayside\n-73.7742736306867\nQueens\nAuburndale\n-73.79176243728061\nQueens\nLittle Neck\n-73.7388977558074\nQueens\nDouglaston\n-73.7424982072733\nQueens\nGlen Oaks\n-73.71548118999145\nQueens\nBellerose\n-73.72012814826903\nQueens\nKew Gardens Hills\n-73.82087764933566\nQueens\nFresh Meadows\n-73.78271337003264\nQueens\nBriarwood\n-73.81174822458634\nQueens\nJamaica Center\n-73.79690165888289\nQueens\nOakland Gardens\n-73.75494976234332\nQueens\nQueens Village\n-73.73871484578424\nQueens\nHollis\n-73.75925009335594\nQueens\nSouth Jamaica\n-73.7904261313554\nQueens\nSt. Albans\n-73.75867603727717\nQueens\nRochdale\n-73.77258787620906\nQueens\nSpringfield Gardens\n-73.76042092682287\nQueens\nCambria Heights\n-73.73526873708026\nQueens\nRosedale\n-73.73526079428278\nQueens\nFar Rockaway\n-73.75497968043872\nQueens\nBroad Channel\n-73.8200548911032\nQueens\nBreezy Point\n-73.92551196994168\nQueens\nSteinway\n-73.90228960391673\nQueens\nBeechhurst\n-73.80436451720988\nQueens\nBay Terrace\n-73.7768022262158\nQueens\nEdgemere\n-73.77613282391705\nQueens\nArverne\n-73.79199233136943\nQueens\nRockaway Beach\n-73.82236121088751\nQueens\nNeponsit\n-73.85754672410827\nQueens\nMurray Hill\n-73.81276269135866\nQueens\nFloral Park\n-73.70884705889246\nQueens\nHolliswood\n-73.76714166714729\nQueens\nJamaica Estates\n-73.7872269693666\nQueens\nQueensboro Hill\n-73.82580915110559\nQueens\nHillcrest\n-73.79760300912672\nQueens\nRavenswood\n-73.93157506072878\nQueens\nLindenwood\n-73.84963782402441\nQueens\nLaurelton\n-73.74025607989822\nQueens\nLefrak City\n-73.8625247141374\nQueens\nBelle Harbor\n-73.8540175039252\nQueens\nRockaway Park\n-73.84153370226186\nQueens\nSomerville\n-73.79664750844047\nQueens\nBrookville\n-73.75175310731153\nQueens\nBellaire\n-73.73889198912481\nQueens\nNorth Corona\n-73.85751790676447\nQueens\nForest Hills Gardens\n-73.8410221123401\nStaten Island\nSt. George\n-74.07935312512797\nStaten Island\nNew Brighton\n-74.08701650516625\nStaten Island\nStapleton\n-74.07790192660066\nStaten Island\nRosebank\n-74.06980526716141\nStaten Island\nWest Brighton\n-74.1071817826561\nStaten Island\nGrymes Hill\n-74.08724819983729\nStaten Island\nTodt Hill\n-74.1113288180088\nStaten Island\nSouth Beach\n-74.0795529253982\nStaten Island\nPort Richmond\n-74.12943426797008\nStaten Island\nMariner's Harbor\n-74.15008537046981\nStaten Island\nPort Ivory\n-74.17464532993542\nStaten Island\nCastleton Corners\n-74.11918058534842\nStaten Island\nNew Springville\n-74.16496031329827\nStaten Island\nTravis\n-74.19073717538116\nStaten Island\nNew Dorp\n-74.1164794360638\nStaten Island\nOakwood\n-74.12156593771896\nStaten Island\nGreat Kills\n-74.14932381490992\nStaten Island\nEltingville\n-74.1643308041936\nStaten Island\nAnnadale\n-74.17854866165878\nStaten Island\nWoodrow\n-74.20524582480326\nStaten Island\nTottenville\n-74.24656934235283\nStaten Island\nTompkinsville\n-74.08055351790115\nStaten Island\nSilver Lake\n-74.09629029235458\nStaten Island\nSunnyside\n-74.0971255217853\nBrooklyn\nDitmas Park\n-73.96101312466779\nBrooklyn\nWingate\n-73.93718680559314\nBrooklyn\nRugby\n-73.92688212616955\nStaten Island\nPark Hill\n-74.08015734936296\nStaten Island\nWesterleigh\n-74.13304143951704\nStaten Island\nGraniteville\n-74.15315246387762\nStaten Island\nArlington\n-74.16510420241124\nStaten Island\nArrochar\n-74.06712363225574\nStaten Island\nGrasmere\n-74.0766743627905\nStaten Island\nOld Town\n-74.08751118005578\nStaten Island\nDongan Hills\n-74.09639905312521\nStaten Island\nMidland Beach\n-74.09348266303591\nStaten Island\nGrant City\n-74.10585598545434\nStaten Island\nNew Dorp Beach\n-74.10432707469124\nStaten Island\nBay Terrace\n-74.13916622175768\nStaten Island\nHuguenot\n-74.19174105747814\nStaten Island\nPleasant Plains\n-74.21983106616777\nStaten Island\nButler Manor\n-74.22950350260027\nStaten Island\nCharleston\n-74.23215775896526\nStaten Island\nRossville\n-74.21572851113952\nStaten Island\nArden Heights\n-74.18588674583893\nStaten Island\nGreenridge\n-74.17079414786092\nStaten Island\nHeartland Village\n-74.15902208156601\nStaten Island\nChelsea\n-74.1895604551969\nStaten Island\nBloomfield\n-74.18725638381567\nStaten Island\nBulls Head\n-74.15940948657122\nManhattan\nCarnegie Hill\n-73.95325646837112\nManhattan\nNoho\n-73.98843368023597\nManhattan\nCivic Center\n-74.00541529873355\nManhattan\nMidtown South\n-73.98871313285247\nStaten Island\nRichmond Town\n-74.1340572986257\nStaten Island\nShore Acres\n-74.06667766061771\nStaten Island\nClifton\n-74.072642445484\nStaten Island\nConcord\n-74.08402364740358\nStaten Island\nEmerson Hill\n-74.09776206972522\nStaten Island\nRandall Manor\n-74.09805062373887\nStaten Island\nHowland Hook\n-74.18622331749823\nStaten Island\nElm Park\n-74.1418167896889\nBrooklyn\nRemsen Village\n-73.91665331978048\nBrooklyn\nNew Lots\n-73.88511776379292\nBrooklyn\nPaerdegat Basin\n-73.90233474295836\nBrooklyn\nMill Basin\n-73.91515391550404\nQueens\nJamaica Hills\n-73.79646462081593\nQueens\nUtopia\n-73.79671678028349\nQueens\nPomonok\n-73.80486120040537\nQueens\nAstoria Heights\n-73.89467996270574\nBronx\nClaremont Village\n-73.90119903387667\nBronx\nConcourse Village\n-73.91584652759009\nBronx\nMount Eden\n-73.91655551964419\nBronx\nMount Hope\n-73.90829930881988\nManhattan\nSutton Place\n-73.96355614094303\nQueens\nHunters Point\n-73.95386782130745\nManhattan\nTurtle Bay\n-73.96770824581834\nManhattan\nTudor City\n-73.97121928722265\nManhattan\nStuyvesant Town\n-73.97405170469203\nManhattan\nFlatiron\n-73.9909471052826\nQueens\nSunnyside Gardens\n-73.91819286431682\nQueens\nBlissville\n-73.93244235260178\nBrooklyn\nFulton Ferry\n-73.99550751888415\nBrooklyn\nVinegar Hill\n-73.98111603592393\nBrooklyn\nWeeksville\n-73.93053108817338\nBrooklyn\nBroadway Junction\n-73.90331684852599\nBrooklyn\nDumbo\n-73.9887528074504\nStaten Island\nManor Heights\n-74.12059399718001\nStaten Island\nWillowbrook\n-74.13208447484298\nStaten Island\nSandy Ground\n-74.21776636068567\nStaten Island\nEgbertville\n-74.12727240604946\nQueens\nRoxbury\n-73.89213760232822\nBrooklyn\nHomecrest\n-73.95918459428702\nQueens\nMiddle Village\n-73.88114319200604\nStaten Island\nPrince's Bay\n-74.20152556457658\nStaten Island\nLighthouse Hill\n-74.13792663771568\nStaten Island\nRichmond Valley\n-74.22957080626941\nQueens\nMalba\n-73.82667757138641\nBrooklyn\nHighland Park\n-73.890345709872\nBrooklyn\nMadison\n-73.94841515328893\nBronx\nBronxdale\n-73.86172577555115\nBronx\nAllerton\n-73.85931863221647\nBronx\nKingsbridge Heights\n-73.90152264513144\nBrooklyn\nErasmus\n-73.94817709920184\nManhattan\nHudson Yards\n-74.00011136202637\nQueens\nHammels\n-73.80553002968718\nQueens\nBayswater\n-73.76596781445627\nQueens\nQueensbridge\n-73.94563070334091\nStaten Island\nFox Hills\n-74.08173992211962\n"
                }, 
                {
                    "execution_count": 5, 
                    "metadata": {}, 
                    "data": {
                        "text/html": "<div>\n<style scoped>\n    .dataframe tbody tr th:only-of-type {\n        vertical-align: middle;\n    }\n\n    .dataframe tbody tr th {\n        vertical-align: top;\n    }\n\n    .dataframe thead th {\n        text-align: right;\n    }\n</style>\n<table border=\"1\" class=\"dataframe\">\n  <thead>\n    <tr style=\"text-align: right;\">\n      <th></th>\n      <th>Borough</th>\n      <th>Neighborhood</th>\n      <th>Latitude</th>\n      <th>Longitude</th>\n    </tr>\n  </thead>\n  <tbody>\n    <tr>\n      <th>0</th>\n      <td>Bronx</td>\n      <td>Wakefield</td>\n      <td>40.894705</td>\n      <td>-73.847201</td>\n    </tr>\n    <tr>\n      <th>1</th>\n      <td>Bronx</td>\n      <td>Co-op City</td>\n      <td>40.874294</td>\n      <td>-73.829939</td>\n    </tr>\n    <tr>\n      <th>2</th>\n      <td>Bronx</td>\n      <td>Eastchester</td>\n      <td>40.887556</td>\n      <td>-73.827806</td>\n    </tr>\n    <tr>\n      <th>3</th>\n      <td>Bronx</td>\n      <td>Fieldston</td>\n      <td>40.895437</td>\n      <td>-73.905643</td>\n    </tr>\n    <tr>\n      <th>4</th>\n      <td>Bronx</td>\n      <td>Riverdale</td>\n      <td>40.890834</td>\n      <td>-73.912585</td>\n    </tr>\n  </tbody>\n</table>\n</div>", 
                        "text/plain": "  Borough Neighborhood   Latitude  Longitude\n0   Bronx    Wakefield  40.894705 -73.847201\n1   Bronx   Co-op City  40.874294 -73.829939\n2   Bronx  Eastchester  40.887556 -73.827806\n3   Bronx    Fieldston  40.895437 -73.905643\n4   Bronx    Riverdale  40.890834 -73.912585"
                    }, 
                    "output_type": "execute_result"
                }
            ], 
            "source": "for data in newyork_data:\n    print(data['properties']['borough'])\n    print(data['properties']['name'])\n    borough =data['properties']['borough'] \n    neighborhood_name = data['properties']['name']\n    neighborhood_latlon = data['geometry']['coordinates']\n    neighborhood_lat = neighborhood_latlon[1]\n    neighborhood_lon = neighborhood_latlon[0]\n    print(neighborhood_lon)\n    neighborhoods = neighborhoods.append({'Borough': borough,\n                                          'Neighborhood': neighborhood_name,\n                                          'Latitude': neighborhood_lat,\n                                          'Longitude': neighborhood_lon}, ignore_index=True)\n    \nneighborhoods.head()"
        }, 
        {
            "execution_count": 6, 
            "cell_type": "code", 
            "metadata": {}, 
            "outputs": [
                {
                    "execution_count": 6, 
                    "metadata": {}, 
                    "data": {
                        "text/html": "<div>\n<style scoped>\n    .dataframe tbody tr th:only-of-type {\n        vertical-align: middle;\n    }\n\n    .dataframe tbody tr th {\n        vertical-align: top;\n    }\n\n    .dataframe thead th {\n        text-align: right;\n    }\n</style>\n<table border=\"1\" class=\"dataframe\">\n  <thead>\n    <tr style=\"text-align: right;\">\n      <th></th>\n      <th>Borough</th>\n      <th>Neighborhood</th>\n      <th>Latitude</th>\n      <th>Longitude</th>\n    </tr>\n  </thead>\n  <tbody>\n    <tr>\n      <th>0</th>\n      <td>Manhattan</td>\n      <td>Marble Hill</td>\n      <td>40.876551</td>\n      <td>-73.910660</td>\n    </tr>\n    <tr>\n      <th>1</th>\n      <td>Manhattan</td>\n      <td>Chinatown</td>\n      <td>40.715618</td>\n      <td>-73.994279</td>\n    </tr>\n    <tr>\n      <th>2</th>\n      <td>Manhattan</td>\n      <td>Washington Heights</td>\n      <td>40.851903</td>\n      <td>-73.936900</td>\n    </tr>\n    <tr>\n      <th>3</th>\n      <td>Manhattan</td>\n      <td>Inwood</td>\n      <td>40.867684</td>\n      <td>-73.921210</td>\n    </tr>\n    <tr>\n      <th>4</th>\n      <td>Manhattan</td>\n      <td>Hamilton Heights</td>\n      <td>40.823604</td>\n      <td>-73.949688</td>\n    </tr>\n  </tbody>\n</table>\n</div>", 
                        "text/plain": "     Borough        Neighborhood   Latitude  Longitude\n0  Manhattan         Marble Hill  40.876551 -73.910660\n1  Manhattan           Chinatown  40.715618 -73.994279\n2  Manhattan  Washington Heights  40.851903 -73.936900\n3  Manhattan              Inwood  40.867684 -73.921210\n4  Manhattan    Hamilton Heights  40.823604 -73.949688"
                    }, 
                    "output_type": "execute_result"
                }
            ], 
            "source": "manhattan_data = neighborhoods[neighborhoods['Borough'] == 'Manhattan'].reset_index(drop=True)\nmanhattan_data.head()"
        }, 
        {
            "execution_count": 7, 
            "cell_type": "code", 
            "metadata": {}, 
            "outputs": [
                {
                    "ename": "FileNotFoundError", 
                    "evalue": "File b'Geospatial_Coordinates.csv' does not exist", 
                    "traceback": [
                        "\u001b[0;31m---------------------------------------------------------------------------\u001b[0m", 
                        "\u001b[0;31mFileNotFoundError\u001b[0m                         Traceback (most recent call last)", 
                        "\u001b[0;32m<ipython-input-7-cc09d7cf50d7>\u001b[0m in \u001b[0;36m<module>\u001b[0;34m()\u001b[0m\n\u001b[1;32m     29\u001b[0m \u001b[0;34m\u001b[0m\u001b[0m\n\u001b[1;32m     30\u001b[0m \u001b[0;34m\u001b[0m\u001b[0m\n\u001b[0;32m---> 31\u001b[0;31m \u001b[0mes\u001b[0m \u001b[0;34m=\u001b[0m \u001b[0mpd\u001b[0m\u001b[0;34m.\u001b[0m\u001b[0mread_csv\u001b[0m\u001b[0;34m(\u001b[0m\u001b[0;34m'Geospatial_Coordinates.csv'\u001b[0m\u001b[0;34m)\u001b[0m\u001b[0;34m\u001b[0m\u001b[0m\n\u001b[0m\u001b[1;32m     32\u001b[0m \u001b[0;34m\u001b[0m\u001b[0m\n\u001b[1;32m     33\u001b[0m \u001b[0mNeigh\u001b[0m \u001b[0;34m=\u001b[0m \u001b[0mpd\u001b[0m\u001b[0;34m.\u001b[0m\u001b[0mconcat\u001b[0m\u001b[0;34m(\u001b[0m\u001b[0;34m[\u001b[0m\u001b[0mNeigh\u001b[0m\u001b[0;34m,\u001b[0m\u001b[0mes\u001b[0m\u001b[0;34m[\u001b[0m\u001b[0;34m'Latitude'\u001b[0m\u001b[0;34m]\u001b[0m\u001b[0;34m,\u001b[0m\u001b[0mes\u001b[0m\u001b[0;34m[\u001b[0m\u001b[0;34m'Longitude'\u001b[0m\u001b[0;34m]\u001b[0m\u001b[0;34m]\u001b[0m\u001b[0;34m,\u001b[0m\u001b[0maxis\u001b[0m\u001b[0;34m=\u001b[0m\u001b[0;36m1\u001b[0m\u001b[0;34m)\u001b[0m\u001b[0;34m\u001b[0m\u001b[0m\n", 
                        "\u001b[0;32m/opt/conda/envs/DSX-Python35/lib/python3.5/site-packages/pandas/io/parsers.py\u001b[0m in \u001b[0;36mparser_f\u001b[0;34m(filepath_or_buffer, sep, delimiter, header, names, index_col, usecols, squeeze, prefix, mangle_dupe_cols, dtype, engine, converters, true_values, false_values, skipinitialspace, skiprows, nrows, na_values, keep_default_na, na_filter, verbose, skip_blank_lines, parse_dates, infer_datetime_format, keep_date_col, date_parser, dayfirst, iterator, chunksize, compression, thousands, decimal, lineterminator, quotechar, quoting, escapechar, comment, encoding, dialect, tupleize_cols, error_bad_lines, warn_bad_lines, skipfooter, skip_footer, doublequote, delim_whitespace, as_recarray, compact_ints, use_unsigned, low_memory, buffer_lines, memory_map, float_precision)\u001b[0m\n\u001b[1;32m    703\u001b[0m                     skip_blank_lines=skip_blank_lines)\n\u001b[1;32m    704\u001b[0m \u001b[0;34m\u001b[0m\u001b[0m\n\u001b[0;32m--> 705\u001b[0;31m         \u001b[0;32mreturn\u001b[0m \u001b[0m_read\u001b[0m\u001b[0;34m(\u001b[0m\u001b[0mfilepath_or_buffer\u001b[0m\u001b[0;34m,\u001b[0m \u001b[0mkwds\u001b[0m\u001b[0;34m)\u001b[0m\u001b[0;34m\u001b[0m\u001b[0m\n\u001b[0m\u001b[1;32m    706\u001b[0m \u001b[0;34m\u001b[0m\u001b[0m\n\u001b[1;32m    707\u001b[0m     \u001b[0mparser_f\u001b[0m\u001b[0;34m.\u001b[0m\u001b[0m__name__\u001b[0m \u001b[0;34m=\u001b[0m \u001b[0mname\u001b[0m\u001b[0;34m\u001b[0m\u001b[0m\n", 
                        "\u001b[0;32m/opt/conda/envs/DSX-Python35/lib/python3.5/site-packages/pandas/io/parsers.py\u001b[0m in \u001b[0;36m_read\u001b[0;34m(filepath_or_buffer, kwds)\u001b[0m\n\u001b[1;32m    443\u001b[0m \u001b[0;34m\u001b[0m\u001b[0m\n\u001b[1;32m    444\u001b[0m     \u001b[0;31m# Create the parser.\u001b[0m\u001b[0;34m\u001b[0m\u001b[0;34m\u001b[0m\u001b[0m\n\u001b[0;32m--> 445\u001b[0;31m     \u001b[0mparser\u001b[0m \u001b[0;34m=\u001b[0m \u001b[0mTextFileReader\u001b[0m\u001b[0;34m(\u001b[0m\u001b[0mfilepath_or_buffer\u001b[0m\u001b[0;34m,\u001b[0m \u001b[0;34m**\u001b[0m\u001b[0mkwds\u001b[0m\u001b[0;34m)\u001b[0m\u001b[0;34m\u001b[0m\u001b[0m\n\u001b[0m\u001b[1;32m    446\u001b[0m \u001b[0;34m\u001b[0m\u001b[0m\n\u001b[1;32m    447\u001b[0m     \u001b[0;32mif\u001b[0m \u001b[0mchunksize\u001b[0m \u001b[0;32mor\u001b[0m \u001b[0miterator\u001b[0m\u001b[0;34m:\u001b[0m\u001b[0;34m\u001b[0m\u001b[0m\n", 
                        "\u001b[0;32m/opt/conda/envs/DSX-Python35/lib/python3.5/site-packages/pandas/io/parsers.py\u001b[0m in \u001b[0;36m__init__\u001b[0;34m(self, f, engine, **kwds)\u001b[0m\n\u001b[1;32m    812\u001b[0m             \u001b[0mself\u001b[0m\u001b[0;34m.\u001b[0m\u001b[0moptions\u001b[0m\u001b[0;34m[\u001b[0m\u001b[0;34m'has_index_names'\u001b[0m\u001b[0;34m]\u001b[0m \u001b[0;34m=\u001b[0m \u001b[0mkwds\u001b[0m\u001b[0;34m[\u001b[0m\u001b[0;34m'has_index_names'\u001b[0m\u001b[0;34m]\u001b[0m\u001b[0;34m\u001b[0m\u001b[0m\n\u001b[1;32m    813\u001b[0m \u001b[0;34m\u001b[0m\u001b[0m\n\u001b[0;32m--> 814\u001b[0;31m         \u001b[0mself\u001b[0m\u001b[0;34m.\u001b[0m\u001b[0m_make_engine\u001b[0m\u001b[0;34m(\u001b[0m\u001b[0mself\u001b[0m\u001b[0;34m.\u001b[0m\u001b[0mengine\u001b[0m\u001b[0;34m)\u001b[0m\u001b[0;34m\u001b[0m\u001b[0m\n\u001b[0m\u001b[1;32m    815\u001b[0m \u001b[0;34m\u001b[0m\u001b[0m\n\u001b[1;32m    816\u001b[0m     \u001b[0;32mdef\u001b[0m \u001b[0mclose\u001b[0m\u001b[0;34m(\u001b[0m\u001b[0mself\u001b[0m\u001b[0;34m)\u001b[0m\u001b[0;34m:\u001b[0m\u001b[0;34m\u001b[0m\u001b[0m\n", 
                        "\u001b[0;32m/opt/conda/envs/DSX-Python35/lib/python3.5/site-packages/pandas/io/parsers.py\u001b[0m in \u001b[0;36m_make_engine\u001b[0;34m(self, engine)\u001b[0m\n\u001b[1;32m   1043\u001b[0m     \u001b[0;32mdef\u001b[0m \u001b[0m_make_engine\u001b[0m\u001b[0;34m(\u001b[0m\u001b[0mself\u001b[0m\u001b[0;34m,\u001b[0m \u001b[0mengine\u001b[0m\u001b[0;34m=\u001b[0m\u001b[0;34m'c'\u001b[0m\u001b[0;34m)\u001b[0m\u001b[0;34m:\u001b[0m\u001b[0;34m\u001b[0m\u001b[0m\n\u001b[1;32m   1044\u001b[0m         \u001b[0;32mif\u001b[0m \u001b[0mengine\u001b[0m \u001b[0;34m==\u001b[0m \u001b[0;34m'c'\u001b[0m\u001b[0;34m:\u001b[0m\u001b[0;34m\u001b[0m\u001b[0m\n\u001b[0;32m-> 1045\u001b[0;31m             \u001b[0mself\u001b[0m\u001b[0;34m.\u001b[0m\u001b[0m_engine\u001b[0m \u001b[0;34m=\u001b[0m \u001b[0mCParserWrapper\u001b[0m\u001b[0;34m(\u001b[0m\u001b[0mself\u001b[0m\u001b[0;34m.\u001b[0m\u001b[0mf\u001b[0m\u001b[0;34m,\u001b[0m \u001b[0;34m**\u001b[0m\u001b[0mself\u001b[0m\u001b[0;34m.\u001b[0m\u001b[0moptions\u001b[0m\u001b[0;34m)\u001b[0m\u001b[0;34m\u001b[0m\u001b[0m\n\u001b[0m\u001b[1;32m   1046\u001b[0m         \u001b[0;32melse\u001b[0m\u001b[0;34m:\u001b[0m\u001b[0;34m\u001b[0m\u001b[0m\n\u001b[1;32m   1047\u001b[0m             \u001b[0;32mif\u001b[0m \u001b[0mengine\u001b[0m \u001b[0;34m==\u001b[0m \u001b[0;34m'python'\u001b[0m\u001b[0;34m:\u001b[0m\u001b[0;34m\u001b[0m\u001b[0m\n", 
                        "\u001b[0;32m/opt/conda/envs/DSX-Python35/lib/python3.5/site-packages/pandas/io/parsers.py\u001b[0m in \u001b[0;36m__init__\u001b[0;34m(self, src, **kwds)\u001b[0m\n\u001b[1;32m   1682\u001b[0m         \u001b[0mkwds\u001b[0m\u001b[0;34m[\u001b[0m\u001b[0;34m'allow_leading_cols'\u001b[0m\u001b[0;34m]\u001b[0m \u001b[0;34m=\u001b[0m \u001b[0mself\u001b[0m\u001b[0;34m.\u001b[0m\u001b[0mindex_col\u001b[0m \u001b[0;32mis\u001b[0m \u001b[0;32mnot\u001b[0m \u001b[0;32mFalse\u001b[0m\u001b[0;34m\u001b[0m\u001b[0m\n\u001b[1;32m   1683\u001b[0m \u001b[0;34m\u001b[0m\u001b[0m\n\u001b[0;32m-> 1684\u001b[0;31m         \u001b[0mself\u001b[0m\u001b[0;34m.\u001b[0m\u001b[0m_reader\u001b[0m \u001b[0;34m=\u001b[0m \u001b[0mparsers\u001b[0m\u001b[0;34m.\u001b[0m\u001b[0mTextReader\u001b[0m\u001b[0;34m(\u001b[0m\u001b[0msrc\u001b[0m\u001b[0;34m,\u001b[0m \u001b[0;34m**\u001b[0m\u001b[0mkwds\u001b[0m\u001b[0;34m)\u001b[0m\u001b[0;34m\u001b[0m\u001b[0m\n\u001b[0m\u001b[1;32m   1685\u001b[0m \u001b[0;34m\u001b[0m\u001b[0m\n\u001b[1;32m   1686\u001b[0m         \u001b[0;31m# XXX\u001b[0m\u001b[0;34m\u001b[0m\u001b[0;34m\u001b[0m\u001b[0m\n", 
                        "\u001b[0;32mpandas/_libs/parsers.pyx\u001b[0m in \u001b[0;36mpandas._libs.parsers.TextReader.__cinit__\u001b[0;34m()\u001b[0m\n", 
                        "\u001b[0;32mpandas/_libs/parsers.pyx\u001b[0m in \u001b[0;36mpandas._libs.parsers.TextReader._setup_parser_source\u001b[0;34m()\u001b[0m\n", 
                        "\u001b[0;31mFileNotFoundError\u001b[0m: File b'Geospatial_Coordinates.csv' does not exist"
                    ], 
                    "output_type": "error"
                }
            ], 
            "source": "\nresponse = requests.get(\"https://en.wikipedia.org/wiki/List_of_postal_codes_of_Canada:_M\").text\n\nfrom bs4 import BeautifulSoup\nsoup =BeautifulSoup(response,'lxml')\ntable =soup.tbody\nrows = table.findAll('tr')\ncolumns = ['PostCode', 'Borough', 'Neighborhood']\nlist=[]\ndf={}\nfor row in rows[1:]:\n    cells = row.findAll('td')\n    if (cells[1].text == 'Not assigned'):\n     continue  \n    postCode= cells[0].text\n    borough = cells[1].text\n    neigh = cells[2].text.strip()\n    if (neigh == 'Not assigned'):\n        neigh = borough\n    df={\n        'PostCode': postCode,\n        'Borough' : borough,\n        'Neighborhood'   : neigh,\n     }\n    list.append(df)\n    \nNeigh= pd.DataFrame(list, columns=columns)\nNeigh = Neigh.groupby(['PostCode','Borough'])['Neighborhood'].apply(','.join).reset_index()\n\n\nes = pd.read_csv('Geospatial_Coordinates.csv')\n\nNeigh = pd.concat([Neigh,es['Latitude'],es['Longitude']],axis=1)\narray=['Downtown Toronto','East Toronto', 'Central Toronto', 'West Toronto']\ntoronto_data = Neigh[Neigh['Borough'].isin(array)].reset_index(drop=True)\ntoronto_data.head()\n    \ntoronto_data.drop(columns=['PostCode'],inplace=True)\ntoronto_data.reset_index(drop=True).head()\n\nmanhattan_data = manhattan_data.append(toronto_data)\n\nmanhattan_data = pd.concat([manhattan_data,toronto_data]).drop_duplicates().reset_index(drop=True)\n\nmanhattan_data"
        }, 
        {
            "execution_count": 8, 
            "cell_type": "code", 
            "metadata": {}, 
            "outputs": [
                {
                    "output_type": "stream", 
                    "name": "stdout", 
                    "text": "The geograpical coordinate of Manhattan are 40.7900869, -73.9598295.\n"
                }
            ], 
            "source": "address = 'Manhattan, NY'\n\ngeolocator = Nominatim(user_agent=\"ny_explorer\")\nlocation = geolocator.geocode(address)\nlatitude = location.latitude\nlongitude = location.longitude\nprint('The geograpical coordinate of Manhattan are {}, {}.'.format(latitude, longitude))"
        }, 
        {
            "execution_count": 9, 
            "cell_type": "code", 
            "metadata": {}, 
            "outputs": [
                {
                    "execution_count": 9, 
                    "metadata": {}, 
                    "data": {
                        "text/plain": "'Marble Hill'"
                    }, 
                    "output_type": "execute_result"
                }
            ], 
            "source": "manhattan_data.loc[0, 'Neighborhood']"
        }, 
        {
            "execution_count": 10, 
            "cell_type": "code", 
            "metadata": {}, 
            "outputs": [
                {
                    "output_type": "stream", 
                    "name": "stdout", 
                    "text": "Marble Hill\n40.8765507788\n"
                }
            ], 
            "source": "neighborhood_latitude = manhattan_data.loc[0, 'Latitude'] # neighborhood latitude value\nneighborhood_longitude = manhattan_data.loc[0, 'Longitude'] # neighborhood longitude value\n\nneighborhood_name = manhattan_data.loc[0, 'Neighborhood'] # neighborhood name\n\nprint(neighborhood_name)\nprint(neighborhood_latitude)"
        }, 
        {
            "execution_count": 11, 
            "cell_type": "code", 
            "metadata": {}, 
            "outputs": [
                {
                    "ename": "NameError", 
                    "evalue": "name 'CLIENT_ID' is not defined", 
                    "traceback": [
                        "\u001b[0;31m---------------------------------------------------------------------------\u001b[0m", 
                        "\u001b[0;31mNameError\u001b[0m                                 Traceback (most recent call last)", 
                        "\u001b[0;32m<ipython-input-11-8c014eb17311>\u001b[0m in \u001b[0;36m<module>\u001b[0;34m()\u001b[0m\n\u001b[1;32m      6\u001b[0m \u001b[0;34m\u001b[0m\u001b[0m\n\u001b[1;32m      7\u001b[0m url = 'https://api.foursquare.com/v2/venues/explore?&client_id={}&client_secret={}&v={}&ll={},{}&radius={}&limit={}'.format(\n\u001b[0;32m----> 8\u001b[0;31m     \u001b[0mCLIENT_ID\u001b[0m\u001b[0;34m,\u001b[0m\u001b[0;34m\u001b[0m\u001b[0m\n\u001b[0m\u001b[1;32m      9\u001b[0m     \u001b[0mCLIENT_SECRET\u001b[0m\u001b[0;34m,\u001b[0m\u001b[0;34m\u001b[0m\u001b[0m\n\u001b[1;32m     10\u001b[0m     \u001b[0mVERSION\u001b[0m\u001b[0;34m,\u001b[0m\u001b[0;34m\u001b[0m\u001b[0m\n", 
                        "\u001b[0;31mNameError\u001b[0m: name 'CLIENT_ID' is not defined"
                    ], 
                    "output_type": "error"
                }
            ], 
            "source": "\n# type your answer here\nmanhattan_data.head()\nLIMIT = 100 # limit of number of venues returned by Foursquare API\nradius = 500 # define radius\n\nurl = 'https://api.foursquare.com/v2/venues/explore?&client_id={}&client_secret={}&v={}&ll={},{}&radius={}&limit={}'.format(\n    CLIENT_ID, \n    CLIENT_SECRET, \n    VERSION, \n    neighborhood_latitude, \n    neighborhood_longitude, \n    radius, \n    LIMIT)"
        }, 
        {
            "execution_count": 12, 
            "cell_type": "code", 
            "metadata": {}, 
            "outputs": [
                {
                    "ename": "NameError", 
                    "evalue": "name 'url' is not defined", 
                    "traceback": [
                        "\u001b[0;31m---------------------------------------------------------------------------\u001b[0m", 
                        "\u001b[0;31mNameError\u001b[0m                                 Traceback (most recent call last)", 
                        "\u001b[0;32m<ipython-input-12-c59369beab4b>\u001b[0m in \u001b[0;36m<module>\u001b[0;34m()\u001b[0m\n\u001b[0;32m----> 1\u001b[0;31m \u001b[0mresults\u001b[0m \u001b[0;34m=\u001b[0m \u001b[0mrequests\u001b[0m\u001b[0;34m.\u001b[0m\u001b[0mget\u001b[0m\u001b[0;34m(\u001b[0m\u001b[0murl\u001b[0m\u001b[0;34m)\u001b[0m\u001b[0;34m.\u001b[0m\u001b[0mjson\u001b[0m\u001b[0;34m(\u001b[0m\u001b[0;34m)\u001b[0m\u001b[0;34m\u001b[0m\u001b[0m\n\u001b[0m\u001b[1;32m      2\u001b[0m \u001b[0mresults\u001b[0m\u001b[0;34m\u001b[0m\u001b[0m\n", 
                        "\u001b[0;31mNameError\u001b[0m: name 'url' is not defined"
                    ], 
                    "output_type": "error"
                }
            ], 
            "source": "results = requests.get(url).json()\nresults"
        }, 
        {
            "execution_count": 13, 
            "cell_type": "code", 
            "metadata": {}, 
            "outputs": [], 
            "source": "# function that extracts the category of the venue\ndef get_category_type(row):\n    try:\n        categories_list = row['categories']\n    except:\n        categories_list = row['venue.categories']\n        \n    if len(categories_list) == 0:\n        return None\n    else:\n        return categories_list[0]['name']"
        }, 
        {
            "execution_count": 14, 
            "cell_type": "code", 
            "metadata": {}, 
            "outputs": [
                {
                    "ename": "NameError", 
                    "evalue": "name 'results' is not defined", 
                    "traceback": [
                        "\u001b[0;31m---------------------------------------------------------------------------\u001b[0m", 
                        "\u001b[0;31mNameError\u001b[0m                                 Traceback (most recent call last)", 
                        "\u001b[0;32m<ipython-input-14-d10ea1e93149>\u001b[0m in \u001b[0;36m<module>\u001b[0;34m()\u001b[0m\n\u001b[0;32m----> 1\u001b[0;31m \u001b[0mvenues\u001b[0m \u001b[0;34m=\u001b[0m \u001b[0mresults\u001b[0m\u001b[0;34m[\u001b[0m\u001b[0;34m'response'\u001b[0m\u001b[0;34m]\u001b[0m\u001b[0;34m[\u001b[0m\u001b[0;34m'groups'\u001b[0m\u001b[0;34m]\u001b[0m\u001b[0;34m[\u001b[0m\u001b[0;36m0\u001b[0m\u001b[0;34m]\u001b[0m\u001b[0;34m[\u001b[0m\u001b[0;34m'items'\u001b[0m\u001b[0;34m]\u001b[0m\u001b[0;34m\u001b[0m\u001b[0m\n\u001b[0m\u001b[1;32m      2\u001b[0m \u001b[0;34m\u001b[0m\u001b[0m\n\u001b[1;32m      3\u001b[0m \u001b[0mnearby_venues\u001b[0m \u001b[0;34m=\u001b[0m \u001b[0mjson_normalize\u001b[0m\u001b[0;34m(\u001b[0m\u001b[0mvenues\u001b[0m\u001b[0;34m)\u001b[0m \u001b[0;31m# flatten JSON\u001b[0m\u001b[0;34m\u001b[0m\u001b[0m\n\u001b[1;32m      4\u001b[0m \u001b[0;34m\u001b[0m\u001b[0m\n\u001b[1;32m      5\u001b[0m \u001b[0;31m# filter columns\u001b[0m\u001b[0;34m\u001b[0m\u001b[0;34m\u001b[0m\u001b[0m\n", 
                        "\u001b[0;31mNameError\u001b[0m: name 'results' is not defined"
                    ], 
                    "output_type": "error"
                }
            ], 
            "source": "venues = results['response']['groups'][0]['items']\n    \nnearby_venues = json_normalize(venues) # flatten JSON\n\n# filter columns\nfiltered_columns = ['venue.name', 'venue.categories', 'venue.location.lat', 'venue.location.lng']\nnearby_venues =nearby_venues.loc[:, filtered_columns]\n\n# filter the category for each row\nnearby_venues['venue.categories'] = nearby_venues.apply(get_category_type, axis=1)\n\n# clean columns\nnearby_venues.columns = [col.split(\".\")[-1] for col in nearby_venues.columns]\n\nnearby_venues.head()"
        }, 
        {
            "execution_count": null, 
            "cell_type": "code", 
            "metadata": {}, 
            "outputs": [], 
            "source": ""
        }
    ], 
    "metadata": {
        "kernelspec": {
            "display_name": "Python 3.5", 
            "name": "python3", 
            "language": "python"
        }, 
        "language_info": {
            "mimetype": "text/x-python", 
            "nbconvert_exporter": "python", 
            "version": "3.5.5", 
            "name": "python", 
            "file_extension": ".py", 
            "pygments_lexer": "ipython3", 
            "codemirror_mode": {
                "version": 3, 
                "name": "ipython"
            }
        }
    }, 
    "nbformat": 4
}