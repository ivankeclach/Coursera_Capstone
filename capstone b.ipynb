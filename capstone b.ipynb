{
    "nbformat_minor": 1, 
    "cells": [
        {
            "source": "# A customer, Jeronimo, wants to open a burguer shop in Bogot\u00e1, Colombia", 
            "cell_type": "markdown", 
            "metadata": {
                "collapsed": true
            }
        }, 
        {
            "source": "## Bogota has 20 different districts. We aim to find the best one", 
            "cell_type": "markdown", 
            "metadata": {}
        }, 
        {
            "source": "## We need:\nThe Localities of Bogot\u00e1, Colombia from Wikipedia:\nhttps://es.wikipedia.org/wiki/Anexo:Localidades_de_Bogot%C3%A1\n\u2022 The coordinates (latitude, longitude) ot these Localities of Bogot\u00e1 from\nOpen Street Map APIs\n\u2022 From Foursquare we will need following venues data:\n\u2022 the burger joint venues of the Localities\n\u2022 the offices venues of the Localities\n\u2022 the high schools venues of the Localities\n\u2022 the universities venues of the Localities ", 
            "cell_type": "markdown", 
            "metadata": {}
        }, 
        {
            "execution_count": null, 
            "cell_type": "code", 
            "metadata": {}, 
            "outputs": [], 
            "source": ""
        }
    ], 
    "metadata": {
        "kernelspec": {
            "display_name": "Python 3.5", 
            "name": "python3", 
            "language": "python"
        }, 
        "language_info": {
            "mimetype": "text/x-python", 
            "nbconvert_exporter": "python", 
            "version": "3.5.5", 
            "name": "python", 
            "file_extension": ".py", 
            "pygments_lexer": "ipython3", 
            "codemirror_mode": {
                "version": 3, 
                "name": "ipython"
            }
        }
    }, 
    "nbformat": 4
}